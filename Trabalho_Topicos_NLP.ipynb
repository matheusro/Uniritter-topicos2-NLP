{
  "nbformat": 4,
  "nbformat_minor": 0,
  "metadata": {
    "colab": {
      "name": "Trabalho_Topicos_NLP.ipynb",
      "provenance": [],
      "collapsed_sections": [],
      "include_colab_link": true
    },
    "kernelspec": {
      "display_name": "Python 3",
      "language": "python",
      "name": "python3"
    },
    "language_info": {
      "codemirror_mode": {
        "name": "ipython",
        "version": 3
      },
      "file_extension": ".py",
      "mimetype": "text/x-python",
      "name": "python",
      "nbconvert_exporter": "python",
      "pygments_lexer": "ipython3",
      "version": "3.7.4"
    }
  },
  "cells": [
    {
      "cell_type": "markdown",
      "metadata": {
        "id": "view-in-github",
        "colab_type": "text"
      },
      "source": [
        "<a href=\"https://colab.research.google.com/github/matheusro/Uniritter-topicos2-NLP/blob/master/Trabalho_Topicos_NLP.ipynb\" target=\"_parent\"><img src=\"https://colab.research.google.com/assets/colab-badge.svg\" alt=\"Open In Colab\"/></a>"
      ]
    },
    {
      "cell_type": "markdown",
      "metadata": {
        "colab_type": "text",
        "id": "icBiG1-lC85f"
      },
      "source": [
        "# Trabalho Prático - Processamento de Linguagem Natural\n",
        "Disciplina: Tópicos II / Professor: William Becker\n",
        "\n",
        "### Alunos:\n",
        "Gustavo da Costa Oliveira / Vinícius Valim de Melo / Cláudia Duarte Rodrigues de Oliveira / Matheus Reck de Oliveira"
      ]
    },
    {
      "cell_type": "markdown",
      "metadata": {
        "colab_type": "text",
        "id": "EZbpm62DC85i"
      },
      "source": [
        "Fonte do Dataset: https://www.kaggle.com/cursostic/avaliao-atendimento#all.csv"
      ]
    },
    {
      "cell_type": "markdown",
      "metadata": {
        "colab_type": "text",
        "id": "X5yZOe_NGDOU"
      },
      "source": [
        "Os dados analisados contêm **avaliações de atendimento de equipe de Suporte de TI**."
      ]
    },
    {
      "cell_type": "code",
      "metadata": {
        "_cell_guid": "b1076dfc-b9ad-4769-8c92-a6c4dae69d19",
        "_uuid": "8f2839f25d086af736a60e9eeb907d3b93b6e0e5",
        "colab_type": "code",
        "id": "Y4IgbYmTC85j",
        "colab": {}
      },
      "source": [
        "import numpy as np\n",
        "#np.random.seed(100)\n",
        "\n",
        "import pandas as pd\n",
        "dataset = pd.read_excel(\"all.xlsx\")"
      ],
      "execution_count": 0,
      "outputs": []
    },
    {
      "cell_type": "code",
      "metadata": {
        "_cell_guid": "79c7e3d0-c299-4dcb-8224-4455121ee9b0",
        "_uuid": "d629ff2d2480ee46fbb7e2d37f6b5fab8052498a",
        "colab_type": "code",
        "id": "iZNEv0OlC85o",
        "outputId": "cb1e9362-a0da-4932-96d7-d28f2378e4a7",
        "colab": {
          "base_uri": "https://localhost:8080/",
          "height": 252
        }
      },
      "source": [
        "print(dataset)"
      ],
      "execution_count": 3,
      "outputs": [
        {
          "output_type": "stream",
          "text": [
            "                                                  coment manifest_atendimento\n",
            "0                              Nunca abri esse incidente               neutro\n",
            "1      Profissionais educados, atenciosos e o mais im...               elogio\n",
            "2      Não tenho condições de responder a esta pesqui...           reclamação\n",
            "3      Chamado não foi resolvido. Apesar de explicado...           reclamação\n",
            "4      O chamado foi encerrado como concluído. Porém,...           reclamação\n",
            "...                                                  ...                  ...\n",
            "42309  O problema não foi resolvido, porém foi fornec...               neutro\n",
            "42310                            Excelente atendimento!!               elogio\n",
            "42311                              Atendimento perfeito.               elogio\n",
            "42312  Não foi resolvido por motivos externos, servid...               neutro\n",
            "42313                   Serviço com atendimento perfeito               elogio\n",
            "\n",
            "[42314 rows x 2 columns]\n"
          ],
          "name": "stdout"
        }
      ]
    },
    {
      "cell_type": "markdown",
      "metadata": {
        "id": "G9fJQrW1TpVq",
        "colab_type": "text"
      },
      "source": [
        "Ao descrever o dataset abaixo, percebe-se que existem algumas avaliações de atendimento onde os usuários não fizeram nenhum comentário **(8 casos)**.\n",
        "\n",
        "Coinscidentemente, alguns usuários incluiram exatamente os mesmos comentários na avaliação. No entanto, ainda temos muitos comentários exclusivos, **totalizando 31253**.\n",
        "\n",
        "O comentário mais reincidente foi o elogio de **\"Excelente atendimento.\"**, sendo apresentado **634 vezes**."
      ]
    },
    {
      "cell_type": "code",
      "metadata": {
        "colab_type": "code",
        "id": "K-FKX8HKC85z",
        "outputId": "a6acae82-67cd-436d-d617-db363f60ef33",
        "colab": {
          "base_uri": "https://localhost:8080/",
          "height": 101
        }
      },
      "source": [
        "print(dataset.describe()) "
      ],
      "execution_count": 10,
      "outputs": [
        {
          "output_type": "stream",
          "text": [
            "                        coment manifest_atendimento\n",
            "count                    42306                42314\n",
            "unique                   31253                    3\n",
            "top     Excelente atendimento.               elogio\n",
            "freq                       634                27630\n"
          ],
          "name": "stdout"
        }
      ]
    },
    {
      "cell_type": "markdown",
      "metadata": {
        "id": "l_LPAP2eVEW8",
        "colab_type": "text"
      },
      "source": [
        "Cono primeiro ajuste do dataset, removemos os registros que não tiveram nenhum comentário."
      ]
    },
    {
      "cell_type": "code",
      "metadata": {
        "colab_type": "code",
        "id": "T2f2ALx7C856",
        "colab": {}
      },
      "source": [
        "# remove os comentarios nulos\n",
        "dataset = dataset[dataset[\"coment\"].isnull() == False]"
      ],
      "execution_count": 0,
      "outputs": []
    },
    {
      "cell_type": "code",
      "metadata": {
        "colab_type": "code",
        "id": "SDvvCg2SC85-",
        "outputId": "5003c28e-52a3-4bc1-a8fa-4155bbcb3d55",
        "colab": {
          "base_uri": "https://localhost:8080/",
          "height": 101
        }
      },
      "source": [
        "print(dataset.describe()) "
      ],
      "execution_count": 12,
      "outputs": [
        {
          "output_type": "stream",
          "text": [
            "                        coment manifest_atendimento\n",
            "count                    42306                42306\n",
            "unique                   31253                    3\n",
            "top     Excelente atendimento.               elogio\n",
            "freq                       634                27630\n"
          ],
          "name": "stdout"
        }
      ]
    },
    {
      "cell_type": "markdown",
      "metadata": {
        "id": "GseYPTADVP8_",
        "colab_type": "text"
      },
      "source": [
        "Analisando as classes originais do dataset, temos a seguinte distribuição:"
      ]
    },
    {
      "cell_type": "code",
      "metadata": {
        "colab_type": "code",
        "id": "tp1ZIiB7C85t",
        "outputId": "23b67157-62ef-42a4-8b6e-dffb1a19c38e",
        "colab": {
          "base_uri": "https://localhost:8080/",
          "height": 84
        }
      },
      "source": [
        "print(dataset['manifest_atendimento'].value_counts())"
      ],
      "execution_count": 13,
      "outputs": [
        {
          "output_type": "stream",
          "text": [
            "elogio        27630\n",
            "neutro         8174\n",
            "reclamação     6502\n",
            "Name: manifest_atendimento, dtype: int64\n"
          ],
          "name": "stdout"
        }
      ]
    },
    {
      "cell_type": "markdown",
      "metadata": {
        "id": "ukToHIOiWI_q",
        "colab_type": "text"
      },
      "source": [
        "Para simplificar o modelo, vamos trabalho somente com duas categorias (elogio e reclamação). Neste caso, iremos considerar que todas avaliações neutras também são reclamação."
      ]
    },
    {
      "cell_type": "code",
      "metadata": {
        "id": "whKl02DYWXJs",
        "colab_type": "code",
        "colab": {}
      },
      "source": [
        "dataset.loc[dataset.manifest_atendimento == 'neutro', 'manifest_atendimento'] = 'reclamação'"
      ],
      "execution_count": 0,
      "outputs": []
    },
    {
      "cell_type": "code",
      "metadata": {
        "id": "eqe-MlNRXU2M",
        "colab_type": "code",
        "colab": {
          "base_uri": "https://localhost:8080/",
          "height": 67
        },
        "outputId": "13d581f3-96a9-4346-861c-efc5fa672041"
      },
      "source": [
        "print(dataset['manifest_atendimento'].value_counts())"
      ],
      "execution_count": 19,
      "outputs": [
        {
          "output_type": "stream",
          "text": [
            "elogio        27630\n",
            "reclamação    14676\n",
            "Name: manifest_atendimento, dtype: int64\n"
          ],
          "name": "stdout"
        }
      ]
    },
    {
      "cell_type": "code",
      "metadata": {
        "colab_type": "code",
        "id": "7lvRtlxLC86D",
        "outputId": "d7b3b721-b8fe-4a48-b258-2cb1ef47a3db",
        "colab": {
          "base_uri": "https://localhost:8080/",
          "height": 67
        }
      },
      "source": [
        "print(dataset.dtypes)"
      ],
      "execution_count": 0,
      "outputs": [
        {
          "output_type": "stream",
          "text": [
            "coment                  object\n",
            "manifest_atendimento    object\n",
            "dtype: object\n"
          ],
          "name": "stdout"
        }
      ]
    },
    {
      "cell_type": "code",
      "metadata": {
        "colab_type": "code",
        "id": "nTTzy7skC86H",
        "colab": {}
      },
      "source": [
        "# converte os comentarios para string\n",
        "dataset['coment'] = dataset.coment.astype(str)\n",
        "# converte os manifestos para categorico\n",
        "dataset['manifest_atendimento'] = dataset.manifest_atendimento.astype('category')"
      ],
      "execution_count": 0,
      "outputs": []
    },
    {
      "cell_type": "code",
      "metadata": {
        "colab_type": "code",
        "id": "hnSETO-jC86L",
        "outputId": "47a50362-94e1-4194-fb4d-6dfb4e9253db",
        "colab": {
          "base_uri": "https://localhost:8080/",
          "height": 101
        }
      },
      "source": [
        "import nltk\n",
        "# importa tokenizadores e stopwords\n",
        "nltk.download('punkt')\n",
        "nltk.download('stopwords')"
      ],
      "execution_count": 0,
      "outputs": [
        {
          "output_type": "stream",
          "text": [
            "[nltk_data] Downloading package punkt to\n",
            "[nltk_data]     C:\\Users\\claudia_roliveira\\AppData\\Roaming\\nltk_data..\n",
            "[nltk_data]     .\n",
            "[nltk_data]   Package punkt is already up-to-date!\n",
            "[nltk_data] Downloading package stopwords to\n",
            "[nltk_data]     C:\\Users\\claudia_roliveira\\AppData\\Roaming\\nltk_data..\n",
            "[nltk_data]     .\n",
            "[nltk_data]   Package stopwords is already up-to-date!\n"
          ],
          "name": "stderr"
        },
        {
          "output_type": "execute_result",
          "data": {
            "text/plain": [
              "True"
            ]
          },
          "metadata": {
            "tags": []
          },
          "execution_count": 48
        }
      ]
    },
    {
      "cell_type": "code",
      "metadata": {
        "colab_type": "code",
        "id": "SkMWWF2eC86P",
        "outputId": "46bbc712-acb5-4039-ac74-32236835df5c",
        "colab": {
          "base_uri": "https://localhost:8080/",
          "height": 252
        }
      },
      "source": [
        "# preparacao dos dados\n",
        "from nltk.corpus import stopwords\n",
        "from nltk.tokenize import word_tokenize\n",
        "\n",
        "# tokenizando as sentencas\n",
        "dataset[\"coment\"] = [word_tokenize(word) for word in dataset[\"coment\"]]\n",
        "print(dataset)"
      ],
      "execution_count": 0,
      "outputs": [
        {
          "output_type": "stream",
          "text": [
            "                                                  coment manifest_atendimento\n",
            "0                         [Nunca, abri, esse, incidente]               neutro\n",
            "1      [Profissionais, educados, ,, atenciosos, e, o,...               elogio\n",
            "2      [Não, tenho, condições, de, responder, a, esta...           reclamação\n",
            "3      [Chamado, não, foi, resolvido, ., Apesar, de, ...           reclamação\n",
            "4      [O, chamado, foi, encerrado, como, concluído, ...           reclamação\n",
            "...                                                  ...                  ...\n",
            "42309  [O, problema, não, foi, resolvido, ,, porém, f...               neutro\n",
            "42310                     [Excelente, atendimento, !, !]               elogio\n",
            "42311                         [Atendimento, perfeito, .]               elogio\n",
            "42312  [Não, foi, resolvido, por, motivos, externos, ...               neutro\n",
            "42313              [Serviço, com, atendimento, perfeito]               elogio\n",
            "\n",
            "[42306 rows x 2 columns]\n"
          ],
          "name": "stdout"
        }
      ]
    },
    {
      "cell_type": "code",
      "metadata": {
        "colab_type": "code",
        "id": "FhQRK7vAC86U",
        "colab": {}
      },
      "source": [
        "# remocao de stopwords\n",
        "dataset[\"coment\"] = dataset[\"coment\"].apply(lambda x: [item for item in x if item not in stopwords.words(\"portuguese\")])"
      ],
      "execution_count": 0,
      "outputs": []
    },
    {
      "cell_type": "code",
      "metadata": {
        "colab_type": "code",
        "id": "nwppxPg2C86Z",
        "outputId": "3f79c7b6-2f5f-472a-af9f-3d4439defe40",
        "colab": {
          "base_uri": "https://localhost:8080/",
          "height": 118
        }
      },
      "source": [
        "print(dataset.head())"
      ],
      "execution_count": 0,
      "outputs": [
        {
          "output_type": "stream",
          "text": [
            "                                              coment manifest_atendimento\n",
            "0                           [Nunca, abri, incidente]               neutro\n",
            "1  [Profissionais, educados, ,, atenciosos, impor...               elogio\n",
            "2  [Não, condições, responder, pesquisa, ., Onde,...           reclamação\n",
            "3  [Chamado, resolvido, ., Apesar, explicado, nec...           reclamação\n",
            "4  [O, chamado, encerrado, concluído, ., Porém, ,...           reclamação\n"
          ],
          "name": "stdout"
        }
      ]
    },
    {
      "cell_type": "code",
      "metadata": {
        "colab_type": "code",
        "id": "uUOsBIGcHXqj",
        "colab": {}
      },
      "source": [
        "# considera todas avaliações neutras como reclamação para equilibrar a amostragem entre 'elogio' X 'reclamação'\n",
        "manifest_atendimento = {'neutro':'reclamação'}\n",
        "dataset = dataset.replace(manifest_atendimento)"
      ],
      "execution_count": 0,
      "outputs": []
    },
    {
      "cell_type": "code",
      "metadata": {
        "colab_type": "code",
        "id": "wIUMCa8lIUuF",
        "outputId": "e6c46d95-4db9-41f5-b360-358f3c816482",
        "colab": {
          "base_uri": "https://localhost:8080/",
          "height": 67
        }
      },
      "source": [
        "print(dataset['manifest_atendimento'].value_counts())"
      ],
      "execution_count": 0,
      "outputs": [
        {
          "output_type": "stream",
          "text": [
            "elogio        27630\n",
            "reclamação    14676\n",
            "Name: manifest_atendimento, dtype: int64\n"
          ],
          "name": "stdout"
        }
      ]
    },
    {
      "cell_type": "code",
      "metadata": {
        "colab_type": "code",
        "id": "tJXmBZt3C86h",
        "outputId": "003f651f-a437-4ddb-cc38-04e0ca122b6e",
        "colab": {
          "base_uri": "https://localhost:8080/",
          "height": 118
        }
      },
      "source": [
        "dataset[\"coment\"] = [' '.join(word) for word in dataset[\"coment\"]]\n",
        "print(dataset.head())"
      ],
      "execution_count": 0,
      "outputs": [
        {
          "output_type": "stream",
          "text": [
            "                                              coment manifest_atendimento\n",
            "0                               Nunca abri incidente           reclamação\n",
            "1  Profissionais educados , atenciosos importante...               elogio\n",
            "2  Não condições responder pesquisa . Onde parece...           reclamação\n",
            "3  Chamado resolvido . Apesar explicado necessida...           reclamação\n",
            "4  O chamado encerrado concluído . Porém , ramal ...           reclamação\n"
          ],
          "name": "stdout"
        }
      ]
    },
    {
      "cell_type": "code",
      "metadata": {
        "colab_type": "code",
        "id": "Ayr4j0AXIx3e",
        "colab": {}
      },
      "source": [
        "import unicodedata\n",
        "import re"
      ],
      "execution_count": 0,
      "outputs": []
    },
    {
      "cell_type": "code",
      "metadata": {
        "id": "hVCbANNqTJmX",
        "colab_type": "code",
        "colab": {}
      },
      "source": [
        "def removerAcentosECaracteresEspeciais(palavra):\n",
        "\n",
        "    # Unicode normalize transforma um caracter em seu equivalente em latin.\n",
        "    nfkd = unicodedata.normalize('NFKD', palavra)\n",
        "    palavraSemAcento = u\"\".join([c for c in nfkd if not unicodedata.combining(c)])\n",
        "\n",
        "    # Usa expressão regular para retornar a palavra apenas com números, letras e espaço\n",
        "    return re.sub('[^a-zA-Z0-9 \\\\\\]', '', palavraSemAcento)"
      ],
      "execution_count": 0,
      "outputs": []
    },
    {
      "cell_type": "code",
      "metadata": {
        "colab_type": "code",
        "id": "3mA4_VF4JNs6",
        "colab": {}
      },
      "source": [
        "# realiza a limpeza nos dados (lowecase e remocao de caracteres)\n",
        "remove_caracteres = re.compile('[^0-9a-z #+_]')\n",
        "replace_espaco = re.compile('[/(){}\\[\\]\\|@,;]')\n",
        "\n",
        "def pre_processamento(text):\n",
        "    text = text.lower()\n",
        "    #text = remove_caracteres.sub('', text)\n",
        "    text = replace_espaco.sub(' ', text)\n",
        "    return text\n",
        "\n",
        "dataset['coment'] = dataset['coment'].apply(pre_processamento)\n",
        "dataset['coment'] = dataset['coment'].apply(removerAcentosECaracteresEspeciais)"
      ],
      "execution_count": 0,
      "outputs": []
    },
    {
      "cell_type": "code",
      "metadata": {
        "colab_type": "code",
        "id": "LjhOstrePETr",
        "outputId": "4daf6081-f654-4919-cbb9-b8f8f0a5acc4",
        "colab": {
          "base_uri": "https://localhost:8080/",
          "height": 118
        }
      },
      "source": [
        "print(dataset.head())"
      ],
      "execution_count": 0,
      "outputs": [
        {
          "output_type": "stream",
          "text": [
            "                                              coment manifest_atendimento\n",
            "0                               nunca abri incidente           reclamação\n",
            "1  profissionais educados   atenciosos importante...               elogio\n",
            "2  nao condicoes responder pesquisa  onde parecer...           reclamação\n",
            "3  chamado resolvido  apesar explicado necessidad...           reclamação\n",
            "4  o chamado encerrado concluido  porem   ramal c...           reclamação\n"
          ],
          "name": "stdout"
        }
      ]
    },
    {
      "cell_type": "code",
      "metadata": {
        "colab_type": "code",
        "id": "F80ieKJjUlHp",
        "colab": {}
      },
      "source": [
        "# GERAR MAIS ANÁLISES - EX.: PALAVRAS MAIS FREQUENTES."
      ],
      "execution_count": 0,
      "outputs": []
    },
    {
      "cell_type": "code",
      "metadata": {
        "id": "u93E0fuiTJmh",
        "colab_type": "code",
        "colab": {},
        "outputId": "d5fd8350-a510-4ff0-e8aa-c471168c0312"
      },
      "source": [
        "pip install wordcloud\n",
        "\n",
        "from wordcloud import WordCloud, STOPWORDS \n",
        "import matplotlib.pyplot as plt "
      ],
      "execution_count": 0,
      "outputs": [
        {
          "output_type": "stream",
          "text": [
            "Collecting wordcloud\n",
            "  Downloading https://files.pythonhosted.org/packages/96/36/f712ec19c6e253d27c5cae0d45a4a465ebb5ccf0cb26887a6a3127d13769/wordcloud-1.6.0-cp37-cp37m-win_amd64.whl (153kB)\n",
            "Requirement already satisfied: pillow in c:\\users\\claudia_roliveira\\appdata\\local\\continuum\\anaconda3\\lib\\site-packages (from wordcloud) (6.2.0)\n",
            "Requirement already satisfied: numpy>=1.6.1 in c:\\users\\claudia_roliveira\\appdata\\local\\continuum\\anaconda3\\lib\\site-packages (from wordcloud) (1.16.5)\n",
            "Requirement already satisfied: matplotlib in c:\\users\\claudia_roliveira\\appdata\\local\\continuum\\anaconda3\\lib\\site-packages (from wordcloud) (3.1.1)\n",
            "Requirement already satisfied: cycler>=0.10 in c:\\users\\claudia_roliveira\\appdata\\local\\continuum\\anaconda3\\lib\\site-packages (from matplotlib->wordcloud) (0.10.0)\n",
            "Requirement already satisfied: kiwisolver>=1.0.1 in c:\\users\\claudia_roliveira\\appdata\\local\\continuum\\anaconda3\\lib\\site-packages (from matplotlib->wordcloud) (1.1.0)\n",
            "Requirement already satisfied: pyparsing!=2.0.4,!=2.1.2,!=2.1.6,>=2.0.1 in c:\\users\\claudia_roliveira\\appdata\\local\\continuum\\anaconda3\\lib\\site-packages (from matplotlib->wordcloud) (2.4.2)\n",
            "Requirement already satisfied: python-dateutil>=2.1 in c:\\users\\claudia_roliveira\\appdata\\local\\continuum\\anaconda3\\lib\\site-packages (from matplotlib->wordcloud) (2.8.0)\n",
            "Requirement already satisfied: six in c:\\users\\claudia_roliveira\\appdata\\local\\continuum\\anaconda3\\lib\\site-packages (from cycler>=0.10->matplotlib->wordcloud) (1.12.0)\n",
            "Requirement already satisfied: setuptools in c:\\users\\claudia_roliveira\\appdata\\local\\continuum\\anaconda3\\lib\\site-packages (from kiwisolver>=1.0.1->matplotlib->wordcloud) (41.4.0)\n",
            "Installing collected packages: wordcloud\n",
            "Successfully installed wordcloud-1.6.0\n",
            "Note: you may need to restart the kernel to use updated packages.\n"
          ],
          "name": "stdout"
        }
      ]
    },
    {
      "cell_type": "code",
      "metadata": {
        "colab_type": "code",
        "id": "oskbEc3lU-1Y",
        "outputId": "d54c2244-7b70-443d-f23b-eb5df3e66422",
        "colab": {
          "base_uri": "https://localhost:8080/",
          "height": 370
        }
      },
      "source": [
        "comment_words = ''  \n",
        "stopwords = set(STOPWORDS)\n",
        "for val in dataset.coment: \n",
        "      \n",
        "    # typecaste each val to string \n",
        "    val = str(val) \n",
        "  \n",
        "    # split the value \n",
        "    tokens = val.split() \n",
        "      \n",
        "       # Converts each token into lowercase \n",
        "    for i in range(len(tokens)): \n",
        "        tokens[i] = tokens[i].lower() \n",
        "          \n",
        "    for words in tokens: \n",
        "        comment_words = comment_words + words + ' '\n",
        "\n",
        "wordcloud = WordCloud(width = 800, height = 800, \n",
        "                background_color ='white', \n",
        "                stopwords = stopwords, \n",
        "                min_font_size = 10).generate(comment_words) \n",
        "\n",
        "# plot the WordCloud image                        \n",
        "plt.figure(figsize = (8, 8), facecolor = None) \n",
        "plt.imshow(wordcloud) \n",
        "plt.axis(\"off\") \n",
        "plt.tight_layout(pad = 0) \n",
        "  \n",
        "plt.show() "
      ],
      "execution_count": 0,
      "outputs": [
        {
          "output_type": "display_data",
          "data": {
            "image/png": "[encoded data removed]",
            "text/plain": [
              "<Figure size 576x576 with 1 Axes>"
            ]
          },
          "metadata": {
            "tags": [],
            "needs_background": "light"
          }
        }
      ]
    },
    {
      "cell_type": "code",
      "metadata": {
        "colab_type": "code",
        "id": "vobXtqv0C86p",
        "colab": {}
      },
      "source": [
        "from sklearn import model_selection\n",
        "\n",
        "X_train, X_test, y_train, y_test = model_selection.train_test_split(dataset[\"coment\"], \n",
        "                                                                    dataset[\"manifest_atendimento\"], \n",
        "                                                                    test_size=0.3)"
      ],
      "execution_count": 0,
      "outputs": []
    },
    {
      "cell_type": "code",
      "metadata": {
        "colab_type": "code",
        "id": "JIaTYwBNC86t",
        "colab": {}
      },
      "source": [
        "from sklearn.preprocessing import LabelEncoder\n",
        "\n",
        "Encoder = LabelEncoder()\n",
        "y_train = Encoder.fit_transform(y_train)\n",
        "y_test = Encoder.fit_transform(y_test)"
      ],
      "execution_count": 0,
      "outputs": []
    },
    {
      "cell_type": "code",
      "metadata": {
        "colab_type": "code",
        "id": "2-QZoq5-C86x",
        "colab": {}
      },
      "source": [
        "from sklearn.feature_extraction.text import TfidfVectorizer\n",
        "\n",
        "Tfidf_vect = TfidfVectorizer(max_features=5000)\n",
        "Tfidf_vect.fit(dataset[\"coment\"])\n",
        "Train_X_Tfidf = Tfidf_vect.transform(X_train)\n",
        "Test_X_Tfidf = Tfidf_vect.transform(X_test)"
      ],
      "execution_count": 0,
      "outputs": []
    },
    {
      "cell_type": "code",
      "metadata": {
        "colab_type": "code",
        "id": "NodFJsKOC861",
        "outputId": "9852eaff-9ef8-4871-b840-98e97b1f68ce",
        "colab": {
          "base_uri": "https://localhost:8080/",
          "height": 1000
        }
      },
      "source": [
        "Tfidf_vect.vocabulary_"
      ],
      "execution_count": 0,
      "outputs": [
        {
          "output_type": "execute_result",
          "data": {
            "text/plain": [
              "{'nunca': 3170,\n",
              " 'abri': 109,\n",
              " 'incidente': 2466,\n",
              " 'profissionais': 3729,\n",
              " 'educados': 1634,\n",
              " 'atenciosos': 470,\n",
              " 'importante': 2434,\n",
              " 'problema': 3704,\n",
              " 'resolvido': 4118,\n",
              " 'envolvidos': 1805,\n",
              " 'parabns': 3331,\n",
              " 'obrigado': 3182,\n",
              " 'no': 3129,\n",
              " 'condies': 983,\n",
              " 'responder': 4128,\n",
              " 'pesquisa': 3483,\n",
              " 'onde': 3239,\n",
              " 'parecer': 3341,\n",
              " 'prometido': 3745,\n",
              " 'rea': 3876,\n",
              " 'tcnica': 4569,\n",
              " 'explicando': 2013,\n",
              " 'soluo': 4471,\n",
              " 'dada': 1234,\n",
              " 'momento': 2999,\n",
              " 'apenas': 384,\n",
              " 'provisria': 3771,\n",
              " 'com': 895,\n",
              " 'elementos': 1669,\n",
              " 'aqui': 428,\n",
              " 'apresentados': 408,\n",
              " 'avaliao': 592,\n",
              " 'pode': 3526,\n",
              " 'ser': 4346,\n",
              " 'negativa': 3101,\n",
              " 'chamado': 808,\n",
              " 'apesar': 385,\n",
              " 'explicado': 2011,\n",
              " 'necessidade': 3087,\n",
              " 'privilgios': 3696,\n",
              " 'administrador': 198,\n",
              " 'notebook': 3152,\n",
              " 'deve': 1464,\n",
              " 'fato': 2074,\n",
              " 'gerncia': 2283,\n",
              " 'presta': 3651,\n",
              " 'suporte': 4535,\n",
              " 'automao': 575,\n",
              " 'atendente': 477,\n",
              " 'encerrado': 1726,\n",
              " 'concludo': 974,\n",
              " 'porm': 3551,\n",
              " 'ramal': 3849,\n",
              " 'continua': 1106,\n",
              " 'constando': 1067,\n",
              " 'conta': 1088,\n",
              " 'telefnica': 4590,\n",
              " 'houve': 2377,\n",
              " 'demora': 1318,\n",
              " 'relativamente': 4029,\n",
              " 'alta': 299,\n",
              " 'resoluo': 4098,\n",
              " 'sistema': 4410,\n",
              " 'foi': 2174,\n",
              " 'informado': 2519,\n",
              " 'skype': 4421,\n",
              " 'poderia': 3532,\n",
              " 'instalado': 2574,\n",
              " 'desktop': 1415,\n",
              " 'aguardando': 245,\n",
              " 'gerente': 2281,\n",
              " 'unidade': 4800,\n",
              " 'em': 1688,\n",
              " 'princpio': 3690,\n",
              " 'certeza': 799,\n",
              " 'ms': 3036,\n",
              " 'vem': 4880,\n",
              " 'correto': 1167,\n",
              " 'excelente': 1944,\n",
              " 'atendimento': 496,\n",
              " 'tcnico': 4571,\n",
              " 'ricardo': 4191,\n",
              " 'nogueira': 3131,\n",
              " 'verificar': 4896,\n",
              " 'acabei': 128,\n",
              " 'checar': 817,\n",
              " 'permanece': 3457,\n",
              " 'microcomputador': 2961,\n",
              " 'mesa': 2946,\n",
              " 'retirado': 4163,\n",
              " 'chave': 815,\n",
              " 'consta': 1065,\n",
              " 'dsp': 1605,\n",
              " 'email': 1689,\n",
              " 'beatriz': 638,\n",
              " 'dando': 1239,\n",
              " 'continuidade': 1116,\n",
              " 'pois': 3537,\n",
              " 'identificado': 2391,\n",
              " 'ocorrido': 3216,\n",
              " 'durante': 1611,\n",
              " 'ltimo': 2814,\n",
              " 'curso': 1226,\n",
              " 'sinpro': 4404,\n",
              " 'ana': 324,\n",
              " 'carvalho': 767,\n",
              " '02062015': 2,\n",
              " 'para': 3326,\n",
              " 'flavio': 2167,\n",
              " 'agostinho': 230,\n",
              " 'silva': 4382,\n",
              " 'cc': 780,\n",
              " 'anna': 343,\n",
              " 'paula': 3376,\n",
              " 'gomes': 2296,\n",
              " 'oliveira': 3236,\n",
              " 'jose': 2679,\n",
              " 'antonio': 363,\n",
              " 'alex': 281,\n",
              " 'moreira': 3010,\n",
              " 'esta': 1889,\n",
              " 'mensagem': 2938,\n",
              " 'prezados': 3680,\n",
              " 'contato': 1099,\n",
              " 'supervisor': 4530,\n",
              " 'equipe': 1811,\n",
              " 'tic': 4654,\n",
              " 'local': 2789,\n",
              " 'ficou': 2131,\n",
              " 'esclarecido': 1839,\n",
              " 'rede': 3959,\n",
              " 'edicin': 1623,\n",
              " 'realmente': 3898,\n",
              " 'tm': 4676,\n",
              " 'apresentado': 407,\n",
              " 'problemas': 3705,\n",
              " 'tcnicos': 4572,\n",
              " 'ficando': 2122,\n",
              " 'lenta': 2724,\n",
              " 'uma': 4795,\n",
              " 'solues': 4470,\n",
              " 'apresentadas': 406,\n",
              " 'fazer': 2083,\n",
              " 'instalaes': 2576,\n",
              " 'locais': 2788,\n",
              " 'acessar': 141,\n",
              " 'citrix': 845,\n",
              " 'procedimento': 3709,\n",
              " 'feito': 2103,\n",
              " 'horrio': 2372,\n",
              " 'alternativo': 309,\n",
              " 'aps': 427,\n",
              " 'trmino': 4771,\n",
              " 'primeiro': 3684,\n",
              " 'dia': 1486,\n",
              " 'caso': 769,\n",
              " 'solicitado': 4441,\n",
              " 'apoio': 398,\n",
              " 'evento': 1927,\n",
              " 'fim': 2135,\n",
              " 'parceria': 3336,\n",
              " 'tipo': 4666,\n",
              " 'prximos': 3785,\n",
              " 'cursos': 1227,\n",
              " 'venho': 4883,\n",
              " 'prximo': 3784,\n",
              " 'realizar': 3892,\n",
              " 'uns': 4803,\n",
              " 'testes': 4647,\n",
              " 'juntamente': 2689,\n",
              " 'designado': 1405,\n",
              " 'cpia': 1191,\n",
              " 'aguardo': 251,\n",
              " 'retorno': 4175,\n",
              " 'rota': 4220,\n",
              " 'tel': 4586,\n",
              " '21': 54,\n",
              " 'bom': 658,\n",
              " 'gentileza': 2267,\n",
              " 'encaminhar': 1719,\n",
              " 'de': 1257,\n",
              " 'petrobras': 3493,\n",
              " 'data': 1250,\n",
              " 'assunto': 456,\n",
              " 'responsveis': 4137,\n",
              " 'up': 4810,\n",
              " 'do': 1584,\n",
              " 'supracitado': 4536,\n",
              " 'tomada': 4686,\n",
              " 'providncias': 3770,\n",
              " 'junto': 2690,\n",
              " 'demandante': 1304,\n",
              " 'favor': 2077,\n",
              " 'copiar': 1145,\n",
              " 'todos': 4683,\n",
              " 'emails': 1690,\n",
              " 'possa': 3564,\n",
              " 'acompanhar': 166,\n",
              " 'processo': 3712,\n",
              " 'resolvermos': 4111,\n",
              " 'grato': 2313,\n",
              " 'flvio': 2170,\n",
              " 'processamento': 3711,\n",
              " 'pleno': 3516,\n",
              " 'edifcio': 1624,\n",
              " 'andar': 331,\n",
              " 'sala': 4252,\n",
              " 'salvador': 4257,\n",
              " 'ba': 609,\n",
              " 'brasil': 669,\n",
              " 'externo': 2028,\n",
              " '71': 81,\n",
              " 'petrobrascombr': 3494,\n",
              " 'repassado': 4058,\n",
              " 'tivemos': 4675,\n",
              " 'alguns': 288,\n",
              " 'dias': 1492,\n",
              " 'relao': 4022,\n",
              " 'acesso': 145,\n",
              " 'pc': 3379,\n",
              " 'programas': 3738,\n",
              " 'como': 913,\n",
              " 'conseguimos': 1036,\n",
              " 'acontecendo': 170,\n",
              " 'acontecia': 173,\n",
              " 'fiz': 2162,\n",
              " 'paralelamente': 3334,\n",
              " 'fizemos': 2163,\n",
              " 'cenpes': 790,\n",
              " 'tb': 4567,\n",
              " 'uorio': 4808,\n",
              " 'lentido': 2727,\n",
              " 'resposta': 4139,\n",
              " 'outra': 3290,\n",
              " 'alternativa': 307,\n",
              " 'instalao': 2578,\n",
              " 'impacto': 2419,\n",
              " 'to': 4678,\n",
              " 'grande': 2308,\n",
              " 'andamento': 330,\n",
              " 'vez': 4905,\n",
              " 'parar': 3335,\n",
              " 'instalados': 2575,\n",
              " 'mquinas': 3032,\n",
              " 'participantes': 3348,\n",
              " 'decidi': 1259,\n",
              " 'conforme': 1017,\n",
              " 'permitia': 3465,\n",
              " 'passando': 3364,\n",
              " 'parte': 3346,\n",
              " 'voltando': 4961,\n",
              " 'guardar': 2328,\n",
              " 'resolver': 4107,\n",
              " 'fao': 2070,\n",
              " 'agora': 229,\n",
              " 'gostaria': 2300,\n",
              " 'ter': 4626,\n",
              " 'pessoas': 3492,\n",
              " 'infra': 2539,\n",
              " 'possamos': 3566,\n",
              " 'pedir': 3392,\n",
              " 'jos': 2678,\n",
              " 'trabalha': 4706,\n",
              " 'neste': 3116,\n",
              " 'sc': 4290,\n",
              " 'eng': 1749,\n",
              " 'expanso': 2000,\n",
              " 'escritrio': 1850,\n",
              " 'total': 4703,\n",
              " '110': 24,\n",
              " 'nota': 3146,\n",
              " 'dei': 1286,\n",
              " 'fez': 2116,\n",
              " 'ela': 1665,\n",
              " 'perfeita': 3440,\n",
              " 'atenciosa': 465,\n",
              " 'resolveu': 4113,\n",
              " 'servio': 4356,\n",
              " 'havia': 2346,\n",
              " 'sido': 4374,\n",
              " 'anterior': 354,\n",
              " 'cheguei': 830,\n",
              " 'ligar': 2758,\n",
              " '881': 86,\n",
              " 'duas': 1606,\n",
              " 'vezes': 4906,\n",
              " 'micro': 2960,\n",
              " 'parado': 3333,\n",
              " 'outro': 3292,\n",
              " 'disponvel': 1556,\n",
              " 'uso': 4826,\n",
              " 'normalmente': 3142,\n",
              " 'rpido': 4227,\n",
              " 'entendi': 1762,\n",
              " 'aconteceu': 172,\n",
              " 'colaborador': 876,\n",
              " 'superou': 4528,\n",
              " 'expectativas': 2002,\n",
              " 'cliente': 858,\n",
              " 'eficiente': 1659,\n",
              " 'eficaz': 1653,\n",
              " 'demanda': 1302,\n",
              " 'fineza': 2148,\n",
              " 'concluir': 977,\n",
              " 'utilizou': 4850,\n",
              " 'impressora': 2452,\n",
              " 'instalar': 2579,\n",
              " 'impedindo': 2428,\n",
              " 'atividades': 520,\n",
              " 'setor': 4361,\n",
              " 'atendendente': 475,\n",
              " 'permisso': 3463,\n",
              " 'tal': 4550,\n",
              " 'parabenizo': 3329,\n",
              " 'eficiencia': 1658,\n",
              " 'primeira': 3682,\n",
              " 'orientao': 3274,\n",
              " 'deveria': 1469,\n",
              " 'criar': 1200,\n",
              " 'nova': 3158,\n",
              " 'prprio': 3775,\n",
              " 'vrias': 4974,\n",
              " 'utilizava': 4845,\n",
              " 'insisti': 2565,\n",
              " 'execuo': 1967,\n",
              " 'report': 4072,\n",
              " 'encerramento': 1728,\n",
              " 'telas': 4588,\n",
              " 'executado': 1970,\n",
              " 'erro': 1827,\n",
              " 'corrigido': 1172,\n",
              " 'lento': 2728,\n",
              " 'burocrtico': 689,\n",
              " 'tive': 4674,\n",
              " 'funcionou': 2238,\n",
              " 'efetuar': 1649,\n",
              " 'despacho': 1427,\n",
              " 'informaes': 2521,\n",
              " 'era': 1817,\n",
              " 'trocar': 4777,\n",
              " 'inserir': 2562,\n",
              " 'realizou': 3897,\n",
              " 'atividade': 519,\n",
              " 'atendeu': 484,\n",
              " 'bem': 641,\n",
              " 'ficamos': 2121,\n",
              " 'atuao': 556,\n",
              " 'solicitao': 4447,\n",
              " 'aprovada': 416,\n",
              " 'atendida': 487,\n",
              " 'achei': 152,\n",
              " 'mto': 3041,\n",
              " 'tempo': 4603,\n",
              " 'simples': 4390,\n",
              " 'estive': 1910,\n",
              " 'insatisfeito': 2557,\n",
              " 'devido': 1476,\n",
              " 'persiste': 3472,\n",
              " 'gerar': 2278,\n",
              " 'relatrio': 4035,\n",
              " 'acompanhamento': 164,\n",
              " 'projetos': 3743,\n",
              " 'cordial': 1150,\n",
              " 'preciso': 3619,\n",
              " 'baixa': 616,\n",
              " 'refere': 3972,\n",
              " 'designao': 1406,\n",
              " 'quase': 3819,\n",
              " 'semana': 4325,\n",
              " 'solucionou': 4468,\n",
              " 'rapidamente': 3858,\n",
              " 'destacar': 1437,\n",
              " 'empenho': 1707,\n",
              " 'deixar': 1292,\n",
              " 'computador': 960,\n",
              " 'operando': 3250,\n",
              " 'todas': 4680,\n",
              " 'dificuldades': 1507,\n",
              " 'toshiba': 4702,\n",
              " 'imposto': 2446,\n",
              " 'eu': 1925,\n",
              " 'colegas': 882,\n",
              " 'percebemos': 3416,\n",
              " 'preocupao': 3637,\n",
              " 'usurios': 4832,\n",
              " 'se': 4299,\n",
              " 'possvel': 3583,\n",
              " 'registrado': 3992,\n",
              " 'elogio': 1684,\n",
              " 'postura': 3588,\n",
              " 'pronto': 3750,\n",
              " 'dez': 1483,\n",
              " 'agradeo': 239,\n",
              " 'pelo': 3399,\n",
              " 'aprovao': 420,\n",
              " 'prvia': 3780,\n",
              " 'software': 4433,\n",
              " 'timo': 4662,\n",
              " 'concluso': 980,\n",
              " 'devoluo': 1478,\n",
              " 'extrema': 2031,\n",
              " 'eficincia': 1662,\n",
              " 'prestado': 3655,\n",
              " 'recurso': 3956,\n",
              " 'satisfatorio': 4280,\n",
              " 'fiquei': 2153,\n",
              " 'troca': 4772,\n",
              " 'produto': 3725,\n",
              " 'trabalho': 4713,\n",
              " 'recorrente': 3946,\n",
              " 'menos': 2937,\n",
              " 'semanas': 4327,\n",
              " 'sem': 4323,\n",
              " 'hbil': 2349,\n",
              " 'procurar': 3718,\n",
              " 'atravs': 535,\n",
              " 'sametime': 4264,\n",
              " 'passaram': 3366,\n",
              " 'meu': 2954,\n",
              " 'da': 1233,\n",
              " 'hp': 2378,\n",
              " 'mas': 2888,\n",
              " 'atendido': 489,\n",
              " 'pela': 3398,\n",
              " 'telefonia': 4596,\n",
              " 'insatisfeita': 2556,\n",
              " 'foram': 2184,\n",
              " 'solicitados': 4442,\n",
              " 'stic': 4498,\n",
              " 'melhor': 2920,\n",
              " 'sim': 4384,\n",
              " 'resolvida': 4116,\n",
              " 'eficcia': 1656,\n",
              " 'headset': 2351,\n",
              " 'aparelho': 380,\n",
              " 'quebrado': 3822,\n",
              " 'satisfeita': 4285,\n",
              " 'telefnico': 4591,\n",
              " 'reclamar': 3928,\n",
              " 'anlise': 341,\n",
              " 'recebi': 3913,\n",
              " 'ligao': 2757,\n",
              " 'manh': 2844,\n",
              " 'informando': 2524,\n",
              " 'aplicativo': 393,\n",
              " 'solicitei': 4451,\n",
              " 'perdi': 3434,\n",
              " '45': 72,\n",
              " 'minutos': 2983,\n",
              " 'todo': 4682,\n",
              " 'informou': 2537,\n",
              " 'porque': 3553,\n",
              " 'conhecimento': 1027,\n",
              " 'pediu': 3393,\n",
              " 'desculpas': 1382,\n",
              " 'ou': 3289,\n",
              " 'pra': 3597,\n",
              " 'nada': 3068,\n",
              " 'geralmente': 2275,\n",
              " 'precisa': 3609,\n",
              " 'consultar': 1080,\n",
              " 'antes': 357,\n",
              " 'iniciar': 2545,\n",
              " 'que': 3821,\n",
              " 'equivoco': 1815,\n",
              " 'ainda': 254,\n",
              " 'internet': 2624,\n",
              " 'desejava': 1390,\n",
              " 'quem': 3826,\n",
              " 'assuntos': 457,\n",
              " 'informtica': 2538,\n",
              " '1000': 18,\n",
              " 'principalmente': 3688,\n",
              " 'gabriel': 2252,\n",
              " 'brito': 677,\n",
              " 'criado': 1197,\n",
              " 'implementao': 2432,\n",
              " 'realizado': 3887,\n",
              " 'otimo': 3286,\n",
              " 'ateno': 504,\n",
              " 'rapidez': 3860,\n",
              " 'agilidade': 224,\n",
              " 'apresentada': 405,\n",
              " 'suficiente': 4512,\n",
              " 'vrios': 4975,\n",
              " 'registros': 3996,\n",
              " 'tentando': 4615,\n",
              " 'video': 4915,\n",
              " 'esperamos': 1873,\n",
              " 'desta': 1435,\n",
              " 'tecnico': 4580,\n",
              " 'muito': 3052,\n",
              " 'objetivo': 3177,\n",
              " 'atencioso': 469,\n",
              " 'persistncia': 3477,\n",
              " 'pacincia': 3303,\n",
              " 'fundamental': 2243,\n",
              " 'alcanado': 267,\n",
              " 'requerida': 4086,\n",
              " 'casos': 770,\n",
              " 'difceis': 1498,\n",
              " 'bruno': 681,\n",
              " 'conseguiu': 1043,\n",
              " 'softwares': 4434,\n",
              " 'isso': 2653,\n",
              " 'toda': 4679,\n",
              " 'ausncia': 571,\n",
              " 'entendimento': 1765,\n",
              " 'visto': 4942,\n",
              " 'registro': 3995,\n",
              " 'reforar': 3983,\n",
              " 'descaso': 1359,\n",
              " 'minimo': 2980,\n",
              " 'boa': 655,\n",
              " 'vontade': 4971,\n",
              " 'ficaram': 2124,\n",
              " 'pedido': 3388,\n",
              " 'entanto': 1756,\n",
              " 'gesto': 2287,\n",
              " 'sobre': 4426,\n",
              " 'ronda': 4215,\n",
              " 'transpetro': 4734,\n",
              " 'certo': 802,\n",
              " 'desconhecimento': 1370,\n",
              " 'sistemas': 4411,\n",
              " 'sispat': 4409,\n",
              " 'estrutura': 1918,\n",
              " 'sob': 4425,\n",
              " 'charles': 814,\n",
              " 'responsvel': 4138,\n",
              " 'demonstrou': 1317,\n",
              " 'interesse': 2614,\n",
              " 'equivocadamente': 1814,\n",
              " 'contabilidade': 1089,\n",
              " 'reabertura': 3878,\n",
              " 'perodo': 3470,\n",
              " 'contbil': 1101,\n",
              " 'fui': 2224,\n",
              " 'prontamente': 3747,\n",
              " 'aparecendo': 374,\n",
              " 'localizador': 2791,\n",
              " 'sempre': 4330,\n",
              " 'nao': 3069,\n",
              " 'lembro': 2721,\n",
              " 'deste': 1441,\n",
              " 'compartilhado': 920,\n",
              " 'solucionar': 4465,\n",
              " 'movimentao': 3027,\n",
              " 'fernando': 2111,\n",
              " 'poder': 3530,\n",
              " 'dip': 1522,\n",
              " 'gerentes': 2282,\n",
              " 'cuja': 1217,\n",
              " 'responsabilidade': 4135,\n",
              " 'revap': 4181,\n",
              " 'dois': 1589,\n",
              " 'continuam': 1107,\n",
              " 'atualizao': 551,\n",
              " 'devida': 1473,\n",
              " 'baixar': 617,\n",
              " 'drives': 1603,\n",
              " 'analista': 328,\n",
              " 'prestativo': 3665,\n",
              " 'envolvidas': 1803,\n",
              " 'situao': 4420,\n",
              " 'intermitente': 2618,\n",
              " 'novamente': 3159,\n",
              " 'insatisfatria': 2554,\n",
              " 'instabilidade': 2570,\n",
              " 'ajuda': 255,\n",
              " 'sds': 4298,\n",
              " 'atendende': 474,\n",
              " 'orientou': 3277,\n",
              " 'passos': 3370,\n",
              " 'pergunta': 3446,\n",
              " 'redirecionado': 3960,\n",
              " 'competente': 926,\n",
              " 'prestativa': 3663,\n",
              " 'efetiva': 1640,\n",
              " 'substituio': 4505,\n",
              " 'cartucho': 765,\n",
              " 'tinta': 4665,\n",
              " 'liguei': 2766,\n",
              " 'falha': 2058,\n",
              " 'notes': 3154,\n",
              " 'senha': 4333,\n",
              " 'totalmente': 4705,\n",
              " 'bloqueada': 648,\n",
              " 'gerando': 2276,\n",
              " 'transtorno': 4736,\n",
              " 'reativao': 3902,\n",
              " 'ausente': 570,\n",
              " 'posterior': 3585,\n",
              " 'ficam': 2120,\n",
              " 'expresso': 2023,\n",
              " 'agradecimento': 236,\n",
              " 'habil': 2334,\n",
              " 'devo': 1477,\n",
              " 'falar': 2053,\n",
              " 'solicitar': 4448,\n",
              " 'desbloqueio': 1358,\n",
              " 'sucesso': 4510,\n",
              " '28': 61,\n",
              " 'anos': 346,\n",
              " 'sinto': 4405,\n",
              " 'servios': 4357,\n",
              " 'hoje': 2362,\n",
              " 'colega': 881,\n",
              " 'cujo': 1218,\n",
              " 'nome': 3133,\n",
              " 'esqueci': 1882,\n",
              " 'extremamente': 2032,\n",
              " 'parcialmente': 3338,\n",
              " 'home': 2363,\n",
              " 'area': 431,\n",
              " 'questo': 3839,\n",
              " 'bastante': 631,\n",
              " 'demorou': 1328,\n",
              " 'hora': 2369,\n",
              " 'terceiro': 4629,\n",
              " 'resolvlo': 4120,\n",
              " 'rpbc': 4223,\n",
              " 'departamento': 1332,\n",
              " 'agradece': 231,\n",
              " 'desempenho': 1395,\n",
              " 'dedicao': 1270,\n",
              " 'os': 3282,\n",
              " 'embora': 1694,\n",
              " 'acessveis': 148,\n",
              " 'partir': 3354,\n",
              " 'qualidade': 3805,\n",
              " 'exelente': 1978,\n",
              " 'agradecido': 235,\n",
              " 'parcial': 3337,\n",
              " 'final': 2137,\n",
              " 'analisar': 326,\n",
              " 'forma': 2185,\n",
              " 'rpida': 4225,\n",
              " 'profissional': 3730,\n",
              " 'dedicado': 1269,\n",
              " 'colaboradora': 877,\n",
              " 'carolina': 756,\n",
              " 'super': 4523,\n",
              " 'eficinte': 1663,\n",
              " 'rpidos': 4228,\n",
              " 'eficientes': 1661,\n",
              " 'visita': 4938,\n",
              " 'sr': 4488,\n",
              " 'muita': 3049,\n",
              " 'nos': 3143,\n",
              " 'ramais': 3848,\n",
              " 'dificilmente': 1505,\n",
              " 'algum': 285,\n",
              " 'aled': 270,\n",
              " 'faz': 2079,\n",
              " 'abrir': 114,\n",
              " 'excessiva': 1954,\n",
              " 'horas': 2371,\n",
              " 'liberar': 2747,\n",
              " 'pausa': 3378,\n",
              " 'obrigada': 3181,\n",
              " 'demorei': 1327,\n",
              " 'troquei': 4780,\n",
              " 'explorer': 2019,\n",
              " 'informaram': 2528,\n",
              " 'item': 2657,\n",
              " 'maro': 2885,\n",
              " 'segundo': 4314,\n",
              " 'valores': 4862,\n",
              " 'incorretamente': 2483,\n",
              " 'mencionado': 2933,\n",
              " 'base': 627,\n",
              " 'criada': 1195,\n",
              " 'deixou': 1296,\n",
              " 'replicao': 4069,\n",
              " 'solcito': 4436,\n",
              " '10': 16,\n",
              " 'colaborao': 879,\n",
              " 'excludo': 1962,\n",
              " 'resolutivo': 4100,\n",
              " 'presteza': 3668,\n",
              " 'resultado': 4155,\n",
              " 'prestador': 3656,\n",
              " 'preparado': 3641,\n",
              " 'questes': 3833,\n",
              " 'serviu': 4359,\n",
              " 'pessoal': 3490,\n",
              " 'cordialidade': 1151,\n",
              " 'esclarecimentos': 1841,\n",
              " 'acerca': 137,\n",
              " 'consulta': 1077,\n",
              " 'web': 4981,\n",
              " 'perfeito': 3442,\n",
              " 'gil': 2291,\n",
              " 'xito': 4995,\n",
              " 'pessoa': 3488,\n",
              " 'sistemtica': 4412,\n",
              " 'micros': 2964,\n",
              " 'determinada': 1457,\n",
              " 'automtica': 577,\n",
              " 'acredito': 179,\n",
              " 'deva': 1463,\n",
              " 'crtica': 1211,\n",
              " 'mesma': 2949,\n",
              " 'ferramenta': 2112,\n",
              " 'utilizada': 4836,\n",
              " 'corporativo': 1155,\n",
              " 'existe': 1987,\n",
              " 'frequncia': 2218,\n",
              " 'utilizao': 4842,\n",
              " 'usurio': 4831,\n",
              " 'utilizado': 4837,\n",
              " 'rio': 4194,\n",
              " 'dvida': 1617,\n",
              " 'duplicidade': 1608,\n",
              " 'nenhum': 3109,\n",
              " 'desde': 1384,\n",
              " 'assim': 447,\n",
              " 'considerado': 1051,\n",
              " 'cobrado': 868,\n",
              " 'sendo': 4332,\n",
              " 'cada': 704,\n",
              " 'utilizo': 4849,\n",
              " 'fico': 2130,\n",
              " 'mais': 2834,\n",
              " 'impressionado': 2449,\n",
              " 'positivamente': 3562,\n",
              " 'simpatia': 4388,\n",
              " 'dos': 1595,\n",
              " 'me': 2908,\n",
              " 'atendem': 473,\n",
              " 'registrar': 3994,\n",
              " 'ao': 364,\n",
              " 'lucas': 2816,\n",
              " 'michel': 2958,\n",
              " 'csar': 1213,\n",
              " 'augusto': 564,\n",
              " 'competncia': 928,\n",
              " 'souza': 4480,\n",
              " 'fernandes': 2110,\n",
              " 'gentil': 2266,\n",
              " 'segurana': 4317,\n",
              " 'luciane': 2818,\n",
              " 'luciana': 2817,\n",
              " 'corts': 1183,\n",
              " 'pde': 3380,\n",
              " 'ajudar': 258,\n",
              " 'adequao': 187,\n",
              " 'bases': 629,\n",
              " 'demorado': 1320,\n",
              " 'maior': 2831,\n",
              " 'prioridade': 3692,\n",
              " 'continuar': 1110,\n",
              " 'trabalhando': 4710,\n",
              " 'farei': 2071,\n",
              " 'novo': 3162,\n",
              " 'executar': 1974,\n",
              " 'demais': 1301,\n",
              " 'agradecer': 233,\n",
              " 'educao': 1635,\n",
              " 'efetividade': 1643,\n",
              " 'opo': 3255,\n",
              " 'performance': 3445,\n",
              " 'mostrando': 3017,\n",
              " 'lotus': 2810,\n",
              " 'disposto': 1561,\n",
              " 'tirar': 4669,\n",
              " 'dvidas': 1618,\n",
              " 'capaz': 743,\n",
              " 'relatado': 4024,\n",
              " 'identificou': 2395,\n",
              " 'resolvendo': 4106,\n",
              " 'proativo': 3701,\n",
              " 'continuo': 1117,\n",
              " 'acessando': 140,\n",
              " 'pede': 3385,\n",
              " 'java': 2664,\n",
              " '16': 34,\n",
              " 'tempestividade': 4602,\n",
              " 'informao': 2525,\n",
              " 'passada': 3357,\n",
              " 'objetividade': 3176,\n",
              " 'clareza': 849,\n",
              " 'abrao': 105,\n",
              " 'pouco': 3591,\n",
              " 'anteriormente': 356,\n",
              " 'paciente': 3301,\n",
              " 'mostrou': 3020,\n",
              " 'entretanto': 1784,\n",
              " 'aplicao': 391,\n",
              " 'permite': 3464,\n",
              " 'extranet': 2030,\n",
              " 'instruiu': 2591,\n",
              " 'repita': 4068,\n",
              " 'tarde': 4560,\n",
              " 'excelncia': 1948,\n",
              " 'meia': 2917,\n",
              " 'espera': 1870,\n",
              " 'ouvindo': 3295,\n",
              " 'receber': 3909,\n",
              " 'nenhuma': 3110,\n",
              " 'gg': 2290,\n",
              " 'tratase': 4747,\n",
              " 'sap': 4276,\n",
              " 'burocracia': 686,\n",
              " 'parece': 3339,\n",
              " 'face': 2040,\n",
              " 'manteve': 2853,\n",
              " 'ativo': 521,\n",
              " 'razo': 3871,\n",
              " 'empregado': 1710,\n",
              " 'depois': 1341,\n",
              " 'disso': 1566,\n",
              " 'via': 4908,\n",
              " 'restabelecimento': 4147,\n",
              " 'perfis': 3444,\n",
              " 'logo': 2800,\n",
              " 'repetiu': 4067,\n",
              " 'funcionrio': 2240,\n",
              " 'envolvida': 1802,\n",
              " 'fatores': 2075,\n",
              " 'externos': 2029,\n",
              " 'viagem': 4910,\n",
              " 'saber': 4240,\n",
              " 'fora': 2182,\n",
              " 'funcionamento': 2230,\n",
              " 'r3': 3844,\n",
              " 'imediatamente': 2409,\n",
              " 'manuteno': 2857,\n",
              " 'funo': 2247,\n",
              " 'educado': 1633,\n",
              " 'minhas': 2978,\n",
              " 'site': 4415,\n",
              " 'caixa': 718,\n",
              " 'apresenta': 404,\n",
              " 'chegada': 822,\n",
              " 'feitas': 2102,\n",
              " 'tentativas': 4620,\n",
              " 'correo': 1160,\n",
              " 'sabia': 4242,\n",
              " 'falta': 2063,\n",
              " 'atualizar': 552,\n",
              " 'portal': 3555,\n",
              " 'petrobrs': 3495,\n",
              " 'alterar': 306,\n",
              " 'babylon': 610,\n",
              " 'luz': 2823,\n",
              " 'prontificou': 3749,\n",
              " 'atender': 479,\n",
              " 'proatividade': 3700,\n",
              " 'comprometimento': 956,\n",
              " 'alis': 295,\n",
              " 'realizada': 3885,\n",
              " 'aumento': 567,\n",
              " 'cota': 1188,\n",
              " 'drive': 1600,\n",
              " 'estou': 1914,\n",
              " 'aproximadamente': 426,\n",
              " 'minha': 2977,\n",
              " 'maneira': 2842,\n",
              " 'qualificada': 3807,\n",
              " 'claro': 850,\n",
              " 'funcionando': 2231,\n",
              " 'grupo': 2324,\n",
              " 'captura': 744,\n",
              " 'voltado': 4960,\n",
              " 'tudo': 4785,\n",
              " 'dentro': 1331,\n",
              " 'prazo': 3604,\n",
              " 'esto': 1911,\n",
              " 'parabens': 3330,\n",
              " 'funcionria': 2239,\n",
              " 'educada': 1632,\n",
              " 'prativo': 3603,\n",
              " 'est': 1888,\n",
              " 'acho': 153,\n",
              " 'soube': 4477,\n",
              " 'cadastramento': 708,\n",
              " 'cdigo': 782,\n",
              " 'tima': 4660,\n",
              " 'regras': 3999,\n",
              " 'espero': 1878,\n",
              " 'custo': 1230,\n",
              " 'antedimento': 350,\n",
              " 'propriamente': 3757,\n",
              " 'dito': 1572,\n",
              " 'demandas': 1305,\n",
              " 'parada': 3332,\n",
              " 'produo': 3723,\n",
              " 'plataforma': 3511,\n",
              " 'p19': 3298,\n",
              " 'tentativa': 4619,\n",
              " 'padro': 3308,\n",
              " 'dizer': 1582,\n",
              " 'dado': 1236,\n",
              " 'smartphone': 4422,\n",
              " 'especfico': 1858,\n",
              " 'consigo': 1061,\n",
              " 'consegue': 1031,\n",
              " 'solucionado': 4462,\n",
              " 'velocidade': 4879,\n",
              " 'incrvel': 2487,\n",
              " 'nesse': 3113,\n",
              " 'conduta': 988,\n",
              " 'reposio': 4080,\n",
              " 'encontra': 1732,\n",
              " 'embarcado': 1691,\n",
              " 'contatar': 1097,\n",
              " 'responsavel': 4136,\n",
              " 'segura': 4316,\n",
              " 'meses': 2948,\n",
              " 'recentemente': 3923,\n",
              " 'entraram': 1773,\n",
              " 'peo': 3410,\n",
              " 'reabrir': 3879,\n",
              " 'equipamento': 1809,\n",
              " 'operacional': 3245,\n",
              " 'espectativas': 1869,\n",
              " 'atraso': 532,\n",
              " 'considervel': 1059,\n",
              " 'entrega': 1778,\n",
              " 'este': 1906,\n",
              " 'comunicado': 964,\n",
              " 'antecipadamente': 349,\n",
              " 'causou': 779,\n",
              " 'insatisfao': 2553,\n",
              " 'carla': 753,\n",
              " 'cristina': 1206,\n",
              " 'duraes': 1610,\n",
              " 'contudo': 1133,\n",
              " 'voltou': 4969,\n",
              " 'dar': 1246,\n",
              " 'defeito': 1274,\n",
              " 'devolvido': 1482,\n",
              " 'tendo': 4610,\n",
              " 'abertura': 101,\n",
              " 'ligo': 2763,\n",
              " 'estaria': 1904,\n",
              " 'necessrio': 3098,\n",
              " 'vir': 4930,\n",
              " 'excel': 1942,\n",
              " 'pesquisas': 3485,\n",
              " 'query': 3832,\n",
              " 'fica': 2118,\n",
              " 'dependendo': 1334,\n",
              " 'liberaes': 2745,\n",
              " 'autorizaes': 581,\n",
              " 'telefone': 4593,\n",
              " 'fixo': 2161,\n",
              " 'risco': 4195,\n",
              " 'cancelamento': 735,\n",
              " 'acordo': 176,\n",
              " 'atende': 472,\n",
              " 'raphael': 3856,\n",
              " 'sugestes': 4517,\n",
              " 'melhoria': 2926,\n",
              " 'impactou': 2421,\n",
              " 'rta': 4231,\n",
              " 'qq': 3799,\n",
              " 'efeito': 1639,\n",
              " 'entrar': 1772,\n",
              " 'perguntar': 3449,\n",
              " 'nmero': 3127,\n",
              " 'linha': 2776,\n",
              " 'possibilidade': 3568,\n",
              " 'aberto': 99,\n",
              " 'as': 441,\n",
              " 'funcionalidades': 2229,\n",
              " 'ligaes': 2754,\n",
              " 'migraram': 2969,\n",
              " 'antigo': 359,\n",
              " 'chamadas': 807,\n",
              " 'externas': 2027,\n",
              " 'busca': 690,\n",
              " 'empregados': 1711,\n",
              " 'saiu': 4251,\n",
              " 'entrou': 1785,\n",
              " 'cadastro': 710,\n",
              " 'bateria': 633,\n",
              " '20': 44,\n",
              " 'min': 2976,\n",
              " 'dura': 1609,\n",
              " '50': 76,\n",
              " 'longo': 2805,\n",
              " 'contento': 1104,\n",
              " 'mostrouse': 3021,\n",
              " 'superando': 4525,\n",
              " 'prestatividade': 3664,\n",
              " 'pratividade': 3602,\n",
              " 'gerados': 2272,\n",
              " 'formato': 2194,\n",
              " 'errado': 1825,\n",
              " 'alm': 296,\n",
              " 'visualizao': 4945,\n",
              " 'falhas': 2060,\n",
              " 'ocorreu': 3213,\n",
              " 'faltou': 2068,\n",
              " 'explica': 2009,\n",
              " 'precisando': 3612,\n",
              " 'reiniciar': 4007,\n",
              " ...}"
            ]
          },
          "metadata": {
            "tags": []
          },
          "execution_count": 111
        }
      ]
    },
    {
      "cell_type": "code",
      "metadata": {
        "colab_type": "code",
        "id": "dh7RAsdXC865",
        "colab": {}
      },
      "source": [
        "from sklearn import naive_bayes\n",
        "from sklearn.metrics import accuracy_score\n",
        "\n",
        "Naive = naive_bayes.MultinomialNB()\n",
        "Naive.fit(Train_X_Tfidf, y_train)\n",
        "\n",
        "predictions = Naive.predict(Test_X_Tfidf)"
      ],
      "execution_count": 0,
      "outputs": []
    },
    {
      "cell_type": "code",
      "metadata": {
        "colab_type": "code",
        "id": "FGRJ2pdoC86-",
        "outputId": "a8e5476f-953b-4973-e7ef-ba0fe0fd7a76",
        "colab": {
          "base_uri": "https://localhost:8080/",
          "height": 34
        }
      },
      "source": [
        "print(\"Acuracia NB:\", accuracy_score(predictions, y_test)*100)"
      ],
      "execution_count": 0,
      "outputs": [
        {
          "output_type": "stream",
          "text": [
            "Acuracia NB: 92.85376615190671\n"
          ],
          "name": "stdout"
        }
      ]
    },
    {
      "cell_type": "code",
      "metadata": {
        "colab_type": "code",
        "id": "pZJnTmGzT9yJ",
        "colab": {}
      },
      "source": [
        "# INCLUIR UM TESTE DO MODELO \n",
        "## Inventar um ELOGIO e um RECLAMAÇÃO"
      ],
      "execution_count": 0,
      "outputs": []
    }
  ]
}